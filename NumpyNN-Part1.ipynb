{
  "cells": [
    {
      "cell_type": "code",
      "execution_count": 1,
      "metadata": {
        "id": "R3DITexyYpXr"
      },
      "outputs": [],
      "source": [
        "import numpy as np\n",
        "import pandas as pd\n",
        "import matplotlib.pyplot as plt\n",
        "from PIL import Image"
      ]
    },
    {
      "cell_type": "code",
      "execution_count": 2,
      "metadata": {
        "id": "qE6bUpOlD-L5"
      },
      "outputs": [],
      "source": [
        "train_path = '/content/sample_data/mnist_train_small.csv'\n",
        "test_path = '/content/sample_data/mnist_test.csv'"
      ]
    },
    {
      "cell_type": "code",
      "execution_count": 3,
      "metadata": {
        "id": "zT3F3c1rEQMj"
      },
      "outputs": [],
      "source": [
        "class Dataset():\n",
        "  def __init__(self, path):\n",
        "    self.path = path\n",
        "    self.samples = self.get_samples()\n",
        "\n",
        "  def get_samples(self):\n",
        "    samples = []\n",
        "    data = pd.read_csv(self.path).to_numpy()\n",
        "    for i in range(data.shape[0]):\n",
        "      y = np.zeros(10)\n",
        "      y[data[i][0]] = 1\n",
        "      x = data[i][1:] / 255\n",
        "      samples.append((x,y))\n",
        "    return samples\n",
        "  \n",
        "  def __len__(self):\n",
        "    return len(self.samples)\n",
        "  \n",
        "  def __getitem__(self, idx):\n",
        "    return self.samples[idx]\n",
        "  \n",
        "  def view_sample(self, d=3):\n",
        "    fig = plt.figure(figsize=(5,5))\n",
        "    rows,cols = d,d\n",
        "    for i in range(1,rows*cols + 1):\n",
        "      idx = np.random.randint(len(self))\n",
        "      x,y = self[idx]\n",
        "      label = np.argmax(y)\n",
        "      img = np.reshape(x,(28,28))\n",
        "      fig.add_subplot(rows,cols,i)\n",
        "      plt.axis('off')\n",
        "      plt.title(label)\n",
        "      plt.imshow(img,cmap=\"gray\")\n",
        "    plt.plot()"
      ]
    },
    {
      "cell_type": "code",
      "execution_count": 4,
      "metadata": {
        "id": "iE9hFZIGJaXa"
      },
      "outputs": [],
      "source": [
        "class Dataloader():\n",
        "  def __init__(self,dataset,bs=64):\n",
        "    self.dataset = dataset\n",
        "    np.random.shuffle(self.dataset.samples)\n",
        "    self.bs = bs\n",
        "  \n",
        "  def __len__(self):\n",
        "    return len(self.dataset) // self.bs\n",
        "  \n",
        "  def __iter__(self):\n",
        "    np.random.shuffle(self.dataset.samples)\n",
        "    self.n = 0\n",
        "    return self\n",
        "  \n",
        "  def __next__(self):\n",
        "    if self.n < (len(self.dataset) // self.bs):\n",
        "      x = np.expand_dims(self.dataset[self.n*self.bs][0],axis=0)\n",
        "      y = np.expand_dims(self.dataset[self.n*self.bs][1],axis=0)\n",
        "      for i in range(1, self.bs):\n",
        "        x = np.concatenate((x,np.expand_dims(self.dataset[self.n*self.bs + i][0],axis=0)),axis=0)\n",
        "        y = np.concatenate((y,np.expand_dims(self.dataset[self.n*self.bs + i][1],axis=0)),axis=0)\n",
        "      self.n += 1\n",
        "      return (x,y)\n",
        "    else:\n",
        "      raise StopIteration"
      ]
    },
    {
      "cell_type": "code",
      "source": [
        "class Model():\n",
        "\n",
        "  def __init__(self, model_dimensions, lr=0.01, activation=\"Leaky ReLU\", loss=\"Cross Entropy\", use_batch_norm=True):\n",
        "    \n",
        "    self.dims = model_dimensions\n",
        "    self.lr = lr\n",
        "    self.layers = len(model_dimensions) - 1\n",
        "    self.use_batch_norm = use_batch_norm\n",
        "    self.train_mode_on = True\n",
        "\n",
        "    if loss == \"Cross Entropy\":\n",
        "      self.loss = self.cross_entropy\n",
        "    elif loss == \"MSE\":\n",
        "      self.loss = self.MSE_loss\n",
        "    else:\n",
        "      raise Exception(\"Loss must be either 'Cross Entropy' or 'MSE'\")\n",
        "    \n",
        "    if activation == \"Sigmoid\":\n",
        "      self.activation = self.sigmoid\n",
        "      self.activation_backwards = self.sigmoid_backwards\n",
        "    elif activation == \"Leaky ReLU\":\n",
        "      self.activation = self.Leaky_ReLU\n",
        "      self.activation_backwards = self.Leaky_ReLU_backwards\n",
        "    else:\n",
        "      raise Exception(\"Activation function must be either 'Sigmoid' or 'Leaky ReLU'\")\n",
        "  \n",
        "    self.parameters, self.activations, self.gradients, self.bn = self.create_model()\n",
        "\n",
        "  def train_mode(self):\n",
        "    self.train_mode_on = True\n",
        "  \n",
        "  def test_mode(self):\n",
        "    self.train_mode_on = False\n",
        "\n",
        "  def initialise_weights(self, size):\n",
        "    param = 2*np.random.random(size) - 1\n",
        "    stdv = 1. / np.sqrt(size[0])\n",
        "    return param * stdv\n",
        "\n",
        "  def create_model(self):\n",
        "    parameters, activations, gradients, bn = {}, {}, {}, {}\n",
        "    gradients['L'] = None\n",
        "    for layer in range(1,len(self.dims)):\n",
        "      input = self.dims[layer-1]\n",
        "      output = self.dims[layer]\n",
        "      parameters['W'+ str(layer)] = self.initialise_weights((input,output)) \n",
        "      parameters['B'+ str(layer)] = self.initialise_weights((output,)) \n",
        "      parameters['gamma' + str(layer)] = np.ones(output)\n",
        "      parameters['beta' + str(layer)] = np.zeros(output)\n",
        "      bn['mu' + str(layer)] = np.zeros(output)\n",
        "      bn['var' + str(layer)] = np.ones(output)\n",
        "      gradients['W'+ str(layer)] = np.zeros((input,output))\n",
        "      gradients['B'+ str(layer)] = np.zeros(output)\n",
        "      gradients['gamma' + str(layer)] = np.zeros(output)\n",
        "      gradients['beta' + str(layer)] = np.zeros(output)\n",
        "\n",
        "    return parameters, activations, gradients, bn\n",
        "  \n",
        "  def zero_grad(self):\n",
        "    self.gradients['L'] = None\n",
        "    for layer in range(1,self.layers+1):\n",
        "      self.gradients['W'+ str(layer)] = self.gradients['W'+ str(layer)] * 0\n",
        "      self.gradients['B'+ str(layer)] = self.gradients['B'+ str(layer)] * 0\n",
        "      self.gradients['gamma' + str(layer)] = self.gradients['gamma' + str(layer)] * 0\n",
        "      self.gradients['beta' + str(layer)] = self.gradients['beta' + str(layer)] * 0\n",
        "\n",
        "  def sigmoid(self, x):\n",
        "    return 1/(1+np.exp(-x))\n",
        "  \n",
        "  def sigmoid_backwards(self, dx, x):\n",
        "    sig = self.sigmoid(x)\n",
        "    return dx*sig*(1-sig)\n",
        "\n",
        "  def Leaky_ReLU(self, x, alpha=0.01):\n",
        "    return np.maximum(alpha*x,x)\n",
        "  \n",
        "  def Leaky_ReLU_backwards(self, dx, x, alpha=0.01):\n",
        "    return dx*np.where(x<0,alpha,1)\n",
        "\n",
        "  def batch_norm_forward(self, x, layer, eps=1e-5):\n",
        "    N, D = x.shape\n",
        "    gamma = self.parameters['gamma' + str(layer)]\n",
        "    beta = self.parameters['beta' + str(layer)]\n",
        "    if self.train_mode_on:\n",
        "      mu = 1./N * np.sum(x, axis = 0)\n",
        "      xmu = x - mu\n",
        "      var = 1./N * np.sum(xmu ** 2, axis = 0)\n",
        "      self.bn['mu' + str(layer)] = 0.9 * self.bn['mu' + str(layer)] + 0.1 * mu\n",
        "      self.bn['var' + str(layer)] = 0.9 * self.bn['var' + str(layer)] + 0.1 * var\n",
        "    else:\n",
        "      mu = self.bn['mu' + str(layer)]\n",
        "      xmu = x - mu\n",
        "      var = self.bn['var' + str(layer)]\n",
        "    sqrtvar = np.sqrt(var + eps)\n",
        "    ivar = 1./sqrtvar\n",
        "    xhat = xmu/sqrtvar\n",
        "    gammax = gamma * xhat\n",
        "    out = gammax + beta\n",
        "    if self.train_mode_on:\n",
        "      self.bn['cache' + str(layer)] = (xhat,xmu,ivar,sqrtvar,var,eps)\n",
        "    return out\n",
        "\n",
        "  def batch_norm_backward(self, dx, layer):\n",
        "    (xhat,xmu,ivar,sqrtvar,var,eps) = self.bn['cache' + str(layer)]\n",
        "    gamma = self.parameters['gamma' + str(layer)]\n",
        "    N,D = dx.shape\n",
        "    self.gradients['gamma' + str(layer)] += np.sum(dx*xhat, axis=0)\n",
        "    self.gradients['beta' + str(layer)] += np.sum(dx, axis=0)\n",
        "    dxhat = dx * gamma\n",
        "    divar = np.sum(dxhat*xmu, axis=0)\n",
        "    dxmu1 = dxhat * ivar\n",
        "    dsqrtvar = -1. /(sqrtvar**2) * divar\n",
        "    dvar = 0.5 * 1. /np.sqrt(var+eps) * dsqrtvar\n",
        "    dsq = 1. /N * np.ones((N,D)) * dvar\n",
        "    dxmu2 = 2 * xmu * dsq\n",
        "    dx1 = (dxmu1 + dxmu2)\n",
        "    dmu = -1 * np.sum(dxmu1+dxmu2, axis=0)\n",
        "    dx2 = 1. /N * np.ones((N,D)) * dmu\n",
        "    dx = dx1 + dx2\n",
        "    return dx\n",
        "  \n",
        "  def MSE_loss(self, x, y):\n",
        "    self.gradients['L'] = 2 * (x - y) / y.shape[0]\n",
        "    return np.mean((x-y) ** 2)\n",
        "  \n",
        "  def cross_entropy(self, x, y):\n",
        "    exps = np.exp(x)\n",
        "    s = exps / np.sum(exps,axis=1,keepdims=True)\n",
        "    loss = np.mean(np.sum( y * -np.log(s), axis=1))\n",
        "    self.gradients['L'] = (s - y) / y.shape[0]\n",
        "    return loss\n",
        "\n",
        "  def forward(self, x):\n",
        "    self.activations['A0'] = x\n",
        "    for layer in range(1,self.layers+1):\n",
        "      Z = self.activations['A'+ str(layer-1)] @ self.parameters['W'+ str(layer)] + self.parameters['B'+ str(layer)]\n",
        "      self.activations['Z'+ str(layer)] = Z\n",
        "      if self.use_batch_norm:\n",
        "        Z = self.batch_norm_forward(Z, layer)\n",
        "      self.activations['A'+ str(layer)] = self.activation(Z)\n",
        "    return self.activations['A'+ str(self.layers)]\n",
        "  \n",
        "  def backward(self):\n",
        "    dZ = self.gradients['L']\n",
        "    for i in range(self.layers):\n",
        "      layer = self.layers - i\n",
        "      dA = self.activation_backwards(dZ,self.activations['Z'+ str(layer)])\n",
        "      if self.use_batch_norm:\n",
        "        dA = self.batch_norm_backward(dA, layer)\n",
        "      self.gradients['B'+ str(layer)] += np.sum(dA,axis=0)\n",
        "      self.gradients['W'+ str(layer)] += self.activations['A'+ str(layer-1)].T @ dA\n",
        "      dZ = dA @ self.parameters['W'+ str(layer)].T\n",
        "    \n",
        "  def step(self):\n",
        "    for layer in range(1,self.layers+1):\n",
        "      self.parameters['W'+ str(layer)] -= self.lr * self.gradients['W'+ str(layer)]\n",
        "      self.parameters['B'+ str(layer)] -= self.lr * self.gradients['B'+ str(layer)]\n",
        "      self.parameters['gamma'+ str(layer)] -= self.lr * self.gradients['gamma'+ str(layer)]\n",
        "      self.parameters['beta'+ str(layer)] -= self.lr * self.gradients['beta'+ str(layer)]\n",
        "      \n",
        "  def train_model(self, dataloader):\n",
        "    losses = []\n",
        "    self.train_mode()\n",
        "    iterator = iter(dataloader)\n",
        "    for batch in range(len(dataloader)):\n",
        "      x,y = next(iterator)\n",
        "      self.zero_grad()\n",
        "      out = self.forward(x)\n",
        "      loss = self.loss(out,y)\n",
        "      self.backward()\n",
        "      self.step()\n",
        "      losses.append(loss)\n",
        "    return losses\n",
        "  \n",
        "  def test_model(self, dataloader):\n",
        "    count = 0\n",
        "    self.test_mode()\n",
        "    iterator = iter(dataloader)\n",
        "    for batch in range(len(dataloader)):\n",
        "      x,y = next(iterator)\n",
        "      out = self.forward(x)\n",
        "      count += np.where(np.argmax(out,axis=1) == np.argmax(y,axis=1), 1, 0).sum()\n",
        "    accuracy = 100* count / (len(dataloader)*x.shape[0])\n",
        "    return accuracy\n",
        "  \n",
        "  def train(self, train_dataloader, test_dataloader, epochs=1):\n",
        "    losses = []\n",
        "    for epoch in range(epochs):\n",
        "      epoch_losses = self.train_model(train_dataloader)\n",
        "      losses = np.concatenate((losses, epoch_losses))\n",
        "      accuracy = self.test_model(test_dataloader)\n",
        "      print(f'[Epoch {epoch+1}/{epochs}] Accuracy: {accuracy}%')\n",
        "    plt.plot(losses)"
      ],
      "metadata": {
        "id": "h7gZkKOH8Qdr"
      },
      "execution_count": 5,
      "outputs": []
    },
    {
      "cell_type": "code",
      "execution_count": 6,
      "metadata": {
        "id": "V3OsE3UP-MU7"
      },
      "outputs": [],
      "source": [
        "DIMS = [28*28, 100, 50, 10]\n",
        "BS = 64\n",
        "LR = 0.01\n",
        "BATCHNORM = True\n",
        "ACTIVATION = \"Leaky ReLU\"           # 'Leaky ReLU' or 'Sigmoid'\n",
        "LOSS_FUNC = \"Cross Entropy\"         # 'Cross Entropy' or 'MSE'\n",
        "EPOCHS = 10"
      ]
    },
    {
      "cell_type": "code",
      "execution_count": 7,
      "metadata": {
        "id": "dasHXfn_Pn3J"
      },
      "outputs": [],
      "source": [
        "train_data = Dataset(train_path)\n",
        "test_data = Dataset(test_path)\n",
        "train_dataloader = Dataloader(train_data, BS)\n",
        "test_dataloader = Dataloader(test_data, BS)"
      ]
    },
    {
      "cell_type": "code",
      "execution_count": 8,
      "metadata": {
        "colab": {
          "base_uri": "https://localhost:8080/",
          "height": 319
        },
        "id": "PJdXgRDalV-w",
        "outputId": "ab747682-a0e8-4080-9511-c0624f72ffa1"
      },
      "outputs": [
        {
          "output_type": "display_data",
          "data": {
            "text/plain": [
              "<Figure size 360x360 with 9 Axes>"
            ],
            "image/png": "[encoded data removed]"
          },
          "metadata": {
            "needs_background": "light"
          }
        }
      ],
      "source": [
        "train_data.view_sample()"
      ]
    },
    {
      "cell_type": "code",
      "execution_count": 9,
      "metadata": {
        "id": "X35j7t2yaG_f"
      },
      "outputs": [],
      "source": [
        "model = Model(DIMS, lr=LR, activation=ACTIVATION, loss=LOSS_FUNC, use_batch_norm=BATCHNORM)"
      ]
    },
    {
      "cell_type": "code",
      "execution_count": 10,
      "metadata": {
        "colab": {
          "base_uri": "https://localhost:8080/",
          "height": 439
        },
        "id": "m4QqKP7imGiQ",
        "outputId": "30a1c1f6-65c3-4ed4-c8e9-77c9be04fd8c"
      },
      "outputs": [
        {
          "output_type": "stream",
          "name": "stdout",
          "text": [
            "[Epoch 1/10] Accuracy: 91.30608974358974%\n",
            "[Epoch 2/10] Accuracy: 93.05889423076923%\n",
            "[Epoch 3/10] Accuracy: 93.84014423076923%\n",
            "[Epoch 4/10] Accuracy: 94.32091346153847%\n",
            "[Epoch 5/10] Accuracy: 94.72155448717949%\n",
            "[Epoch 6/10] Accuracy: 95.09214743589743%\n",
            "[Epoch 7/10] Accuracy: 95.1923076923077%\n",
            "[Epoch 8/10] Accuracy: 95.05208333333333%\n",
            "[Epoch 9/10] Accuracy: 95.42267628205128%\n",
            "[Epoch 10/10] Accuracy: 95.34254807692308%\n"
          ]
        },
        {
          "output_type": "display_data",
          "data": {
            "text/plain": [
              "<Figure size 432x288 with 1 Axes>"
            ],
            "image/png": "[encoded data removed]"
          },
          "metadata": {
            "needs_background": "light"
          }
        }
      ],
      "source": [
        "model.train(train_dataloader, test_dataloader, epochs=EPOCHS)"
      ]
    }
  ],
  "metadata": {
    "colab": {
      "name": "NumpyNN - Clean.ipynb",
      "provenance": [],
      "collapsed_sections": []
    },
    "kernelspec": {
      "display_name": "Python 3",
      "name": "python3"
    },
    "language_info": {
      "name": "python"
    }
  },
  "nbformat": 4,
  "nbformat_minor": 0
}